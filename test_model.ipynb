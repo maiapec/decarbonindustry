{
 "cells": [
  {
   "cell_type": "code",
   "execution_count": 1,
   "metadata": {},
   "outputs": [],
   "source": [
    "%load_ext autoreload\n",
    "%autoreload 2"
   ]
  },
  {
   "cell_type": "code",
   "execution_count": 23,
   "metadata": {},
   "outputs": [],
   "source": [
    "import pandas as pd\n",
    "from energySystem import System, NaturalGasFurnace, HeatPump, Battery, ThermalStorage\n",
    "import default_values as DEFAULT"
   ]
  },
  {
   "cell_type": "markdown",
   "metadata": {},
   "source": [
    "## Import data"
   ]
  },
  {
   "cell_type": "code",
   "execution_count": 8,
   "metadata": {},
   "outputs": [],
   "source": [
    "def get_demand_mask_and_price(df, colName, dt):\n",
    "    col = df[colName].to_numpy() / dt\n",
    "    mask = col > 0\n",
    "    price = col[mask][0]\n",
    "    return mask, price"
   ]
  },
  {
   "cell_type": "code",
   "execution_count": 9,
   "metadata": {},
   "outputs": [],
   "source": [
    "##### loads\n",
    "df = pd.read_csv(\"site1_load.csv\")\n",
    "dt = 1/4 # in hours\n",
    "powerLoad, heatLoad = df['Power Load [kWh]'].to_numpy(), df['Heat Load [kWh]'].to_numpy()\n",
    "\n",
    "##### prices\n",
    "df = pd.read_csv(\"power_price_B20.csv\")\n",
    "energyPricePower = df[\"energyPrice\"].to_numpy() # $/kWh\n",
    "# from per kW to per kWh in 15 minutes\n",
    "powerDemand = [get_demand_mask_and_price(df, colName, dt) for colName in [\"peakDemandSummerPrice\",\n",
    "                                                                          \"partialPeakDemandSummerPrice\",\n",
    "                                                                          \"demandSummerPrice\",\n",
    "                                                                          \"peakDemandWinterPrice\",\n",
    "                                                                          \"demandWinterPrice\"]]\n",
    "df = pd.read_csv(\"gas_price.csv\")\n",
    "energyPriceGas = df[\"energyPrice\"].to_numpy() # $/kWh\n",
    "\n",
    "##### emissions\n",
    "df = pd.read_csv(\"power_grid_emissions.csv\")\n",
    "df.ffill(inplace=True)\n",
    "emissionsPower = df[\"MOER version 2.0\"].to_numpy() # kCO2eq/KWhe\n",
    "df = pd.read_csv(\"gas_emissions.csv\")\n",
    "emissionsGas = df[\"gasEmissions\"].to_numpy() # kCO2eq/kWhgas\n",
    "\n",
    "##### time index\n",
    "timeIndex = pd.date_range(start='1/1/2023', periods=len(powerLoad), freq='15min')\n",
    "\n",
    "# clear memory\n",
    "del df"
   ]
  },
  {
   "cell_type": "code",
   "execution_count": 10,
   "metadata": {},
   "outputs": [],
   "source": [
    "# number of timesteps\n",
    "n_timesteps = len(powerLoad)"
   ]
  },
  {
   "cell_type": "markdown",
   "metadata": {},
   "source": [
    "## Natural Gas Only"
   ]
  },
  {
   "cell_type": "code",
   "execution_count": 42,
   "metadata": {},
   "outputs": [
    {
     "name": "stdout",
     "output_type": "stream",
     "text": [
      "System: baseline\n",
      "1 component(s)\n",
      "Component: NaturalGasFurnace\n",
      "    capacityPrice: 200\n",
      "    eff: 0.85\n",
      "    Optimal capacity: 8734.0 kW\n",
      "Status: optimal\n",
      "\n",
      "Annual power consumption: 10000.0 MWh\n",
      "Annual gas consumption: 34521.0 kWh\n",
      "Annual cost: 3.301 M$\n",
      "Annual emissions: 11.65 MtonCO2\n",
      "LCOE (Electricity): 0.169 $/kWh\n",
      "LCOH (Heat): 0.055 $/kWh\n",
      "Carbon Intensity of Electricity: 0.367 kgCO2/kWhe\n",
      "Carbon Intensity of Heat: 0.272 kgCO2/kWhth\n",
      "\n",
      "Runs from 2023-01-01 00:00:00 to 2023-12-31 23:45:00\n",
      "Annual power load: 10000.0 MWh\n",
      "Annual heat load: 29343.0 MWh\n",
      "Average supply power price: 0.153 $/kWh\n",
      "Average supply gas price: 0.046 $/kWh\n",
      "Average supply power emissions: 0.366 kgCO2/kWhe\n",
      "Average supply gas emissions: 0.231 kgCO2/kWhth\n",
      "Annualized capex: 0.14 M$\n",
      "Power opex: 1.545 M$\n",
      "Gas opex: 1.615 M$\n",
      "Total power emissions: 3.67 MtonCO2\n",
      "Total gas emissions: 7.97 MtonCO2\n"
     ]
    }
   ],
   "source": [
    "system1 = System(\n",
    "    \"baseline\",\n",
    "    timeIndex=timeIndex,\n",
    "    powerLoad=powerLoad,\n",
    "    heatLoad=heatLoad,\n",
    "    powerPrice=energyPricePower,\n",
    "    gasPrice=energyPriceGas,\n",
    "    powerMarginalEmissions=emissionsPower,\n",
    "    gasMarginalEmissions=emissionsGas\n",
    ")\n",
    "ngf1 = NaturalGasFurnace(\n",
    "    n_timesteps=n_timesteps,\n",
    "    dt=1/4,\n",
    "    eff=DEFAULT.FURNACE_EFF,\n",
    "    capacityPrice=DEFAULT.FURNACE_CAPA_PRICE,\n",
    "    discRate=DEFAULT.DISCOUNT_RATE,\n",
    "    n_years=DEFAULT.FURNACE_LIFETIME)\n",
    "system1.addComponent(ngf1)\n",
    "system1.solve(objective=\"cost\", solver=\"MOSEK\")\n",
    "system1.describe(detailed=True)\n"
   ]
  },
  {
   "cell_type": "markdown",
   "metadata": {},
   "source": [
    "A sanity check: max capa of the gas furnace should be max(heatLoad)/dt"
   ]
  },
  {
   "cell_type": "code",
   "execution_count": 43,
   "metadata": {},
   "outputs": [
    {
     "name": "stdout",
     "output_type": "stream",
     "text": [
      "The difference is 0.0 kW.\n"
     ]
    }
   ],
   "source": [
    "print(f\"The difference is {heatLoad.max()/dt - ngf1._variables[1].value} kW.\")"
   ]
  },
  {
   "cell_type": "code",
   "execution_count": 44,
   "metadata": {},
   "outputs": [],
   "source": [
    "baselineEmissions = system1.totalEmissions.value"
   ]
  },
  {
   "cell_type": "markdown",
   "metadata": {},
   "source": [
    "## Natural Gas and Heat Pump"
   ]
  },
  {
   "cell_type": "code",
   "execution_count": 45,
   "metadata": {},
   "outputs": [
    {
     "name": "stdout",
     "output_type": "stream",
     "text": [
      "System: baseline\n",
      "2 component(s)\n",
      "Component: NaturalGasFurnace\n",
      "    capacityPrice: 200\n",
      "    eff: 0.85\n",
      "    Optimal capacity: 6264.0 kW\n",
      "Component: HeatPump\n",
      "    capacityPrice: 1000\n",
      "    COP: 3\n",
      "    Optimal capacity: 2470.0 kW\n",
      "Status: optimal\n",
      "\n",
      "Annual power consumption: 15011.0 MWh\n",
      "Annual gas consumption: 16836.0 kWh\n",
      "Annual cost: 3.387 M$\n",
      "Annual emissions: 9.32 MtonCO2\n",
      "LCOE (Electricity): 0.173 $/kWh\n",
      "LCOH (Heat): 0.057 $/kWh\n",
      "Carbon Intensity of Electricity: 0.362 kgCO2/kWhe\n",
      "Carbon Intensity of Heat: 0.194 kgCO2/kWhth\n",
      "\n",
      "Runs from 2023-01-01 00:00:00 to 2023-12-31 23:45:00\n",
      "Annual power load: 10000.0 MWh\n",
      "Annual heat load: 29343.0 MWh\n",
      "Average supply power price: 0.153 $/kWh\n",
      "Average supply gas price: 0.046 $/kWh\n",
      "Average supply power emissions: 0.366 kgCO2/kWhe\n",
      "Average supply gas emissions: 0.231 kgCO2/kWhth\n",
      "Annualized capex: 0.339 M$\n",
      "Power opex: 2.254 M$\n",
      "Gas opex: 0.795 M$\n",
      "Total power emissions: 5.43 MtonCO2\n",
      "Total gas emissions: 3.89 MtonCO2\n"
     ]
    }
   ],
   "source": [
    "hp1 = HeatPump(\n",
    "    n_timesteps=n_timesteps,\n",
    "    dt=1/4,\n",
    "    COP=DEFAULT.HP_COP,\n",
    "    capacityPrice=DEFAULT.HP_CAPA_PRICE,\n",
    "    discRate=DEFAULT.DISCOUNT_RATE,\n",
    "    n_years=DEFAULT.HP_LIFETIME\n",
    ")\n",
    "system1.addComponent(hp1)\n",
    "system1.solve(objective=\"cost\", emissionsCap=0.8*baselineEmissions, solver=\"MOSEK\")\n",
    "system1.describe(detailed=True)"
   ]
  },
  {
   "cell_type": "markdown",
   "metadata": {},
   "source": [
    "## Natural Gas and Heat Pump and Battery"
   ]
  },
  {
   "cell_type": "code",
   "execution_count": 46,
   "metadata": {},
   "outputs": [
    {
     "name": "stdout",
     "output_type": "stream",
     "text": [
      "System: baseline\n",
      "3 component(s)\n",
      "Component: NaturalGasFurnace\n",
      "    capacityPrice: 200\n",
      "    eff: 0.85\n",
      "    Optimal capacity: 5669.0 kW\n",
      "Component: HeatPump\n",
      "    capacityPrice: 1000\n",
      "    COP: 3\n",
      "    Optimal capacity: 3066.0 kW\n",
      "Component: Lithium Ion Battery\n",
      "    socMin: 0\n",
      "    socMax: 1\n",
      "    socInitial: 0.5\n",
      "    socFinal: 0.5\n",
      "    maxDischargeRate: 0.25\n",
      "    maxChargeRate: 0.25\n",
      "    capacityPrice: 396.75\n",
      "    Optimal energy capacity: 2883.0 kWh\n",
      "    Optimal power capacity: 721.0 kW\n",
      "Status: optimal\n",
      "\n",
      "Annual power consumption: 16203.0 MWh\n",
      "Annual gas consumption: 12629.0 kWh\n",
      "Annual cost: 3.457 M$\n",
      "Annual emissions: 8.15 MtonCO2\n",
      "LCOE (Electricity): 0.176 $/kWh\n",
      "LCOH (Heat): 0.058 $/kWh\n",
      "Carbon Intensity of Electricity: 0.323 kgCO2/kWhe\n",
      "Carbon Intensity of Heat: 0.168 kgCO2/kWhth\n",
      "\n",
      "Runs from 2023-01-01 00:00:00 to 2023-12-31 23:45:00\n",
      "Annual power load: 10000.0 MWh\n",
      "Annual heat load: 29343.0 MWh\n",
      "Average supply power price: 0.153 $/kWh\n",
      "Average supply gas price: 0.046 $/kWh\n",
      "Average supply power emissions: 0.366 kgCO2/kWhe\n",
      "Average supply gas emissions: 0.231 kgCO2/kWhth\n",
      "Annualized capex: 0.497 M$\n",
      "Power opex: 2.36 M$\n",
      "Gas opex: 0.6 M$\n",
      "Total power emissions: 5.23 MtonCO2\n",
      "Total gas emissions: 2.92 MtonCO2\n"
     ]
    }
   ],
   "source": [
    "lion1 = Battery(\n",
    "    n_timesteps=n_timesteps,\n",
    "    dt=1/4,\n",
    "    maxChargeRate=DEFAULT.LION_MAX_CHARGE_RATE,\n",
    "    capacityPrice=DEFAULT.LION_CAPA_PRICE,\n",
    "    discRate=DEFAULT.DISCOUNT_RATE,\n",
    "    n_years=DEFAULT.LION_LIFETIME,\n",
    "    name=\"Lithium Ion Battery\"\n",
    ")\n",
    "system1.addComponent(lion1)\n",
    "system1.solve(objective=\"cost\", emissionsCap=0.7*baselineEmissions, solver=\"MOSEK\")\n",
    "system1.describe(detailed=True)"
   ]
  },
  {
   "cell_type": "markdown",
   "metadata": {},
   "source": [
    "## Natural Gas and Heat Pump and Battery and Thermal Energy Storage"
   ]
  },
  {
   "cell_type": "code",
   "execution_count": 47,
   "metadata": {},
   "outputs": [
    {
     "name": "stdout",
     "output_type": "stream",
     "text": [
      "System: baseline\n",
      "4 component(s)\n",
      "Component: NaturalGasFurnace\n",
      "    capacityPrice: 200\n",
      "    eff: 0.85\n",
      "    Optimal capacity: 4859.0 kW\n",
      "Component: HeatPump\n",
      "    capacityPrice: 1000\n",
      "    COP: 3\n",
      "    Optimal capacity: 3076.0 kW\n",
      "Component: Lithium Ion Battery\n",
      "    socMin: 0\n",
      "    socMax: 1\n",
      "    socInitial: 0.5\n",
      "    socFinal: 0.5\n",
      "    maxDischargeRate: 0.25\n",
      "    maxChargeRate: 0.25\n",
      "    capacityPrice: 396.75\n",
      "    Optimal energy capacity: 2444.0 kWh\n",
      "    Optimal power capacity: 611.0 kW\n",
      "Component: ThermalStorage\n",
      "    socMin: 0\n",
      "    socMax: 1\n",
      "    socInitial: 0.5\n",
      "    socFinal: 0.5\n",
      "    maxDischargeRate: 0.01\n",
      "    maxChargeRate: 0.01\n",
      "    capacityPrice: 10.0\n",
      "    lossRate: 0.02\n",
      "    Optimal energy capacity: 19978.0 kWh\n",
      "    Optimal power capacity: 200.0 kW\n",
      "Status: optimal\n",
      "\n",
      "Annual power consumption: 16384.0 MWh\n",
      "Annual gas consumption: 12129.0 kWh\n",
      "Annual cost: 3.451 M$\n",
      "Annual emissions: 8.15 MtonCO2\n",
      "LCOE (Electricity): 0.175 $/kWh\n",
      "LCOH (Heat): 0.058 $/kWh\n",
      "Carbon Intensity of Electricity: 0.327 kgCO2/kWhe\n",
      "Carbon Intensity of Heat: 0.167 kgCO2/kWhth\n",
      "\n",
      "Runs from 2023-01-01 00:00:00 to 2023-12-31 23:45:00\n",
      "Annual power load: 10000.0 MWh\n",
      "Annual heat load: 29343.0 MWh\n",
      "Average supply power price: 0.153 $/kWh\n",
      "Average supply gas price: 0.046 $/kWh\n",
      "Average supply power emissions: 0.366 kgCO2/kWhe\n",
      "Average supply gas emissions: 0.231 kgCO2/kWhth\n",
      "Annualized capex: 0.484 M$\n",
      "Power opex: 2.39 M$\n",
      "Gas opex: 0.577 M$\n",
      "Total power emissions: 5.35 MtonCO2\n",
      "Total gas emissions: 2.8 MtonCO2\n"
     ]
    }
   ],
   "source": [
    "tes1 = ThermalStorage(\n",
    "    n_timesteps=n_timesteps,\n",
    "    dt=1/4,\n",
    "    maxChargeRate=DEFAULT.TES_MAX_CHARGE_RATE,\n",
    "    lossRate=DEFAULT.TES_LOSS_RATE,\n",
    "    capacityPrice=DEFAULT.TES_CAPA_PRICE,\n",
    "    discRate=DEFAULT.DISCOUNT_RATE,\n",
    "    n_years=DEFAULT.TES_LIFETIME\n",
    ")\n",
    "system1.addComponent(tes1)\n",
    "system1.solve(objective=\"cost\", emissionsCap=0.7*baselineEmissions, solver=\"MOSEK\")\n",
    "system1.describe(detailed=True)"
   ]
  }
 ],
 "metadata": {
  "kernelspec": {
   "display_name": "efes",
   "language": "python",
   "name": "python3"
  },
  "language_info": {
   "codemirror_mode": {
    "name": "ipython",
    "version": 3
   },
   "file_extension": ".py",
   "mimetype": "text/x-python",
   "name": "python",
   "nbconvert_exporter": "python",
   "pygments_lexer": "ipython3",
   "version": "3.11.8"
  }
 },
 "nbformat": 4,
 "nbformat_minor": 2
}
