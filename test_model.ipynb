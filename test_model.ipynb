{
 "cells": [
  {
   "cell_type": "code",
   "execution_count": 1,
   "metadata": {},
   "outputs": [],
   "source": [
    "%load_ext autoreload\n",
    "%autoreload 2"
   ]
  },
  {
   "cell_type": "code",
   "execution_count": 23,
   "metadata": {},
   "outputs": [],
   "source": [
    "import pandas as pd\n",
    "from energySystem import system, NaturalGasFurnace\n",
    "import default_values as DEFAULT"
   ]
  },
  {
   "cell_type": "markdown",
   "metadata": {},
   "source": [
    "## Import data"
   ]
  },
  {
   "cell_type": "code",
   "execution_count": 24,
   "metadata": {},
   "outputs": [],
   "source": [
    "def get_demand_mask_and_price(df, colName, dt):\n",
    "    col = df[colName].to_numpy() / dt\n",
    "    mask = col > 0\n",
    "    price = col[mask][0]\n",
    "    return mask, price"
   ]
  },
  {
   "cell_type": "code",
   "execution_count": 25,
   "metadata": {},
   "outputs": [],
   "source": [
    "##### loads\n",
    "df = pd.read_csv(\"site1_load.csv\")\n",
    "dt = 1/4 # in hours\n",
    "powerLoad, heatLoad = df['Power Load [kWh]'].to_numpy(), df['Heat Load [kWh]'].to_numpy()\n",
    "\n",
    "##### prices\n",
    "df = pd.read_csv(\"power_price_B20.csv\")\n",
    "energyPricePower = df[\"energyPrice\"].to_numpy() # $/kWh\n",
    "# from per kW to per kWh in 15 minutes\n",
    "powerDemand = [get_demand_mask_and_price(df, colName, dt) for colName in [\"peakDemandSummerPrice\",\n",
    "                                                                          \"partialPeakDemandSummerPrice\",\n",
    "                                                                          \"demandSummerPrice\",\n",
    "                                                                          \"peakDemandWinterPrice\",\n",
    "                                                                          \"demandWinterPrice\"]]\n",
    "df = pd.read_csv(\"gas_price.csv\")\n",
    "energyPriceGas = df[\"energyPrice\"].to_numpy() # $/kWh\n",
    "\n",
    "##### emissions\n",
    "df = pd.read_csv(\"power_grid_emissions.csv\")\n",
    "df.ffill(inplace=True)\n",
    "emissionsPower = df[\"MOER version 2.0\"].to_numpy() # kCO2eq/KWhe\n",
    "df = pd.read_csv(\"gas_emissions.csv\")\n",
    "emissionsGas = df[\"gasEmissions\"].to_numpy() # kCO2eq/kWhgas\n",
    "\n",
    "##### time index\n",
    "timeIndex = pd.date_range(start='1/1/2023', periods=len(powerLoad), freq='15min')\n",
    "\n",
    "# clear memory\n",
    "del df"
   ]
  },
  {
   "cell_type": "code",
   "execution_count": 26,
   "metadata": {},
   "outputs": [],
   "source": [
    "# number of timesteps\n",
    "n_timesteps = len(powerLoad)"
   ]
  },
  {
   "cell_type": "markdown",
   "metadata": {},
   "source": [
    "## Natural Gas Only"
   ]
  },
  {
   "cell_type": "code",
   "execution_count": 44,
   "metadata": {},
   "outputs": [
    {
     "name": "stdout",
     "output_type": "stream",
     "text": [
      "System: baseline\n",
      "1 component(s)\n",
      "Component: NaturalGasFurnace\n",
      "    capacityPrice: 1000\n",
      "    eff: 0.85\n",
      "Status: optimal\n",
      "\n",
      "Annual power consumption: 10000.0 MWh\n",
      "Annual gas consumption: 34521.0 kWh\n",
      "Annual cost: 3.862 M$\n",
      "Annual emissions: 11.65 MtonCO2\n",
      "LCOE (Electricity): 0.225 $/kWh\n",
      "LCOH (Heat): 0.055 $/kWh\n",
      "Carbon Intensity of Electricity: 0.367 kgCO2/kWhe\n",
      "Carbon Intensity of Heat: 0.272 kgCO2/kWhth\n",
      "\n",
      "Runs from 2023-01-01 00:00:00 to 2023-12-31 23:45:00\n",
      "Annual power load: 10000.0 MWh\n",
      "Annual heat load: 29343.0 MWh\n",
      "Average supply power price: 0.153 $/kWh\n",
      "Average supply gas price: 0.046 $/kWh\n",
      "Average supply power emissions: 0.366 kgCO2/kWhe\n",
      "Average supply gas emissions: 0.231 kgCO2/kWhth\n",
      "Annualized capex: 0.701 M$\n",
      "Power opex: 1.545 M$\n",
      "Gas opex: 1.615 M$\n",
      "Total power emissions: 3.67 MtonCO2\n",
      "Total gas emissions: 7.97 MtonCO2\n"
     ]
    }
   ],
   "source": [
    "system1 = system(\n",
    "    \"baseline\",\n",
    "    timeIndex=timeIndex,\n",
    "    powerLoad=powerLoad,\n",
    "    heatLoad=heatLoad,\n",
    "    powerPrice=energyPricePower,\n",
    "    gasPrice=energyPriceGas,\n",
    "    powerMarginalEmissions=emissionsPower,\n",
    "    gasMarginalEmissions=emissionsGas\n",
    ")\n",
    "ngf = NaturalGasFurnace(\n",
    "    n_timesteps=n_timesteps,\n",
    "    dt=1/4,\n",
    "    capacityPrice=DEFAULT.FURNACE_CAPA_PRICE,\n",
    "    eff=DEFAULT.FURNACE_EFF,\n",
    "    discRate=DEFAULT.DISCOUNT_RATE,\n",
    "    n_years=DEFAULT.FURNACE_LIFETIME)\n",
    "system1.addComponent(ngf)\n",
    "system1.solve(objective=\"cost\", solver=\"MOSEK\")\n",
    "system1.describe(detailed=True)\n"
   ]
  }
 ],
 "metadata": {
  "kernelspec": {
   "display_name": "efes",
   "language": "python",
   "name": "python3"
  },
  "language_info": {
   "codemirror_mode": {
    "name": "ipython",
    "version": 3
   },
   "file_extension": ".py",
   "mimetype": "text/x-python",
   "name": "python",
   "nbconvert_exporter": "python",
   "pygments_lexer": "ipython3",
   "version": "3.11.8"
  }
 },
 "nbformat": 4,
 "nbformat_minor": 2
}
