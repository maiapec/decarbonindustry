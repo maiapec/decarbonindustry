{
 "cells": [
  {
   "cell_type": "code",
   "execution_count": 1,
   "metadata": {},
   "outputs": [],
   "source": [
    "%load_ext autoreload\n",
    "%autoreload 2"
   ]
  },
  {
   "cell_type": "code",
   "execution_count": 64,
   "metadata": {},
   "outputs": [],
   "source": [
    "import pandas as pd\n",
    "from energySystem import System, NaturalGasFurnace, HeatPump\n",
    "import default_values as DEFAULT"
   ]
  },
  {
   "cell_type": "markdown",
   "metadata": {},
   "source": [
    "## Import data"
   ]
  },
  {
   "cell_type": "code",
   "execution_count": 65,
   "metadata": {},
   "outputs": [],
   "source": [
    "def get_demand_mask_and_price(df, colName, dt):\n",
    "    col = df[colName].to_numpy() / dt\n",
    "    mask = col > 0\n",
    "    price = col[mask][0]\n",
    "    return mask, price"
   ]
  },
  {
   "cell_type": "code",
   "execution_count": 66,
   "metadata": {},
   "outputs": [],
   "source": [
    "##### loads\n",
    "df = pd.read_csv(\"site1_load.csv\")\n",
    "dt = 1/4 # in hours\n",
    "powerLoad, heatLoad = df['Power Load [kWh]'].to_numpy(), df['Heat Load [kWh]'].to_numpy()\n",
    "\n",
    "##### prices\n",
    "df = pd.read_csv(\"power_price_B20.csv\")\n",
    "energyPricePower = df[\"energyPrice\"].to_numpy() # $/kWh\n",
    "# from per kW to per kWh in 15 minutes\n",
    "powerDemand = [get_demand_mask_and_price(df, colName, dt) for colName in [\"peakDemandSummerPrice\",\n",
    "                                                                          \"partialPeakDemandSummerPrice\",\n",
    "                                                                          \"demandSummerPrice\",\n",
    "                                                                          \"peakDemandWinterPrice\",\n",
    "                                                                          \"demandWinterPrice\"]]\n",
    "df = pd.read_csv(\"gas_price.csv\")\n",
    "energyPriceGas = df[\"energyPrice\"].to_numpy() # $/kWh\n",
    "\n",
    "##### emissions\n",
    "df = pd.read_csv(\"power_grid_emissions.csv\")\n",
    "df.ffill(inplace=True)\n",
    "emissionsPower = df[\"MOER version 2.0\"].to_numpy() # kCO2eq/KWhe\n",
    "df = pd.read_csv(\"gas_emissions.csv\")\n",
    "emissionsGas = df[\"gasEmissions\"].to_numpy() # kCO2eq/kWhgas\n",
    "\n",
    "##### time index\n",
    "timeIndex = pd.date_range(start='1/1/2023', periods=len(powerLoad), freq='15min')\n",
    "\n",
    "# clear memory\n",
    "del df"
   ]
  },
  {
   "cell_type": "code",
   "execution_count": 67,
   "metadata": {},
   "outputs": [],
   "source": [
    "# number of timesteps\n",
    "n_timesteps = len(powerLoad)"
   ]
  },
  {
   "cell_type": "markdown",
   "metadata": {},
   "source": [
    "## Natural Gas Only"
   ]
  },
  {
   "cell_type": "code",
   "execution_count": 96,
   "metadata": {},
   "outputs": [
    {
     "name": "stdout",
     "output_type": "stream",
     "text": [
      "System: baseline\n",
      "1 component(s)\n",
      "Component: NaturalGasFurnace\n",
      "    capacityPrice: 200\n",
      "    eff: 0.85\n",
      "    Optimal capacity: 8734.0 kW\n",
      "Status: optimal\n",
      "\n",
      "Annual power consumption: 10000.0 MWh\n",
      "Annual gas consumption: 34521.0 kWh\n",
      "Annual cost: 3.301 M$\n",
      "Annual emissions: 11.65 MtonCO2\n",
      "LCOE (Electricity): 0.169 $/kWh\n",
      "LCOH (Heat): 0.055 $/kWh\n",
      "Carbon Intensity of Electricity: 0.367 kgCO2/kWhe\n",
      "Carbon Intensity of Heat: 0.272 kgCO2/kWhth\n",
      "\n",
      "Runs from 2023-01-01 00:00:00 to 2023-12-31 23:45:00\n",
      "Annual power load: 10000.0 MWh\n",
      "Annual heat load: 29343.0 MWh\n",
      "Average supply power price: 0.153 $/kWh\n",
      "Average supply gas price: 0.046 $/kWh\n",
      "Average supply power emissions: 0.366 kgCO2/kWhe\n",
      "Average supply gas emissions: 0.231 kgCO2/kWhth\n",
      "Annualized capex: 0.14 M$\n",
      "Power opex: 1.545 M$\n",
      "Gas opex: 1.615 M$\n",
      "Total power emissions: 3.67 MtonCO2\n",
      "Total gas emissions: 7.97 MtonCO2\n"
     ]
    }
   ],
   "source": [
    "system1 = System(\n",
    "    \"baseline\",\n",
    "    timeIndex=timeIndex,\n",
    "    powerLoad=powerLoad,\n",
    "    heatLoad=heatLoad,\n",
    "    powerPrice=energyPricePower,\n",
    "    gasPrice=energyPriceGas,\n",
    "    powerMarginalEmissions=emissionsPower,\n",
    "    gasMarginalEmissions=emissionsGas\n",
    ")\n",
    "ngf1 = NaturalGasFurnace(\n",
    "    n_timesteps=n_timesteps,\n",
    "    dt=1/4,\n",
    "    capacityPrice=DEFAULT.FURNACE_CAPA_PRICE,\n",
    "    eff=DEFAULT.FURNACE_EFF,\n",
    "    discRate=DEFAULT.DISCOUNT_RATE,\n",
    "    n_years=DEFAULT.FURNACE_LIFETIME)\n",
    "system1.addComponent(ngf1)\n",
    "system1.solve(objective=\"cost\", solver=\"MOSEK\")\n",
    "system1.describe(detailed=True)\n"
   ]
  },
  {
   "cell_type": "markdown",
   "metadata": {},
   "source": [
    "A sanity check: max capa of the gas furnace should be max(heatLoad)/dt"
   ]
  },
  {
   "cell_type": "code",
   "execution_count": 97,
   "metadata": {},
   "outputs": [
    {
     "name": "stdout",
     "output_type": "stream",
     "text": [
      "The difference is 0.0 kW.\n"
     ]
    }
   ],
   "source": [
    "print(f\"The difference is {heatLoad.max()/dt - ngf1._variables[1].value} kW.\")"
   ]
  },
  {
   "cell_type": "code",
   "execution_count": 98,
   "metadata": {},
   "outputs": [],
   "source": [
    "baselineEmissions = system1.totalEmissions.value"
   ]
  },
  {
   "cell_type": "markdown",
   "metadata": {},
   "source": [
    "## Natural Gas and Heat Pump"
   ]
  },
  {
   "cell_type": "code",
   "execution_count": 99,
   "metadata": {},
   "outputs": [
    {
     "name": "stdout",
     "output_type": "stream",
     "text": [
      "System: baseline\n",
      "2 component(s)\n",
      "Component: NaturalGasFurnace\n",
      "    capacityPrice: 200\n",
      "    eff: 0.85\n",
      "    Optimal capacity: 6264.0 kW\n",
      "Component: HeatPump\n",
      "    capacityPrice: 1000\n",
      "    COP: 3\n",
      "    Optimal capacity: 2470.0 kW\n",
      "Status: optimal\n",
      "\n",
      "Annual power consumption: 15011.0 MWh\n",
      "Annual gas consumption: 16836.0 kWh\n",
      "Annual cost: 3.387 M$\n",
      "Annual emissions: 9.32 MtonCO2\n",
      "LCOE (Electricity): 0.173 $/kWh\n",
      "LCOH (Heat): 0.057 $/kWh\n",
      "Carbon Intensity of Electricity: 0.362 kgCO2/kWhe\n",
      "Carbon Intensity of Heat: 0.194 kgCO2/kWhth\n",
      "\n",
      "Runs from 2023-01-01 00:00:00 to 2023-12-31 23:45:00\n",
      "Annual power load: 10000.0 MWh\n",
      "Annual heat load: 29343.0 MWh\n",
      "Average supply power price: 0.153 $/kWh\n",
      "Average supply gas price: 0.046 $/kWh\n",
      "Average supply power emissions: 0.366 kgCO2/kWhe\n",
      "Average supply gas emissions: 0.231 kgCO2/kWhth\n",
      "Annualized capex: 0.339 M$\n",
      "Power opex: 2.254 M$\n",
      "Gas opex: 0.795 M$\n",
      "Total power emissions: 5.43 MtonCO2\n",
      "Total gas emissions: 3.89 MtonCO2\n"
     ]
    }
   ],
   "source": [
    "hp1 = HeatPump(\n",
    "    n_timesteps=n_timesteps,\n",
    "    dt=1/4,\n",
    "    COP=DEFAULT.HP_COP,\n",
    "    capacityPrice=DEFAULT.HP_CAPA_PRICE,\n",
    "    discRate=DEFAULT.DISCOUNT_RATE,\n",
    "    n_years=DEFAULT.HP_LIFETIME\n",
    ")\n",
    "system1.addComponent(hp1)\n",
    "system1.solve(objective=\"cost\", emissionsCap=0.8*baselineEmissions, solver=\"MOSEK\")\n",
    "system1.describe(detailed=True)"
   ]
  },
  {
   "cell_type": "markdown",
   "metadata": {},
   "source": [
    "## Natural Gas and Heat Pump and Battery Storage"
   ]
  },
  {
   "cell_type": "code",
   "execution_count": null,
   "metadata": {},
   "outputs": [],
   "source": []
  }
 ],
 "metadata": {
  "kernelspec": {
   "display_name": "efes",
   "language": "python",
   "name": "python3"
  },
  "language_info": {
   "codemirror_mode": {
    "name": "ipython",
    "version": 3
   },
   "file_extension": ".py",
   "mimetype": "text/x-python",
   "name": "python",
   "nbconvert_exporter": "python",
   "pygments_lexer": "ipython3",
   "version": "3.11.8"
  }
 },
 "nbformat": 4,
 "nbformat_minor": 2
}
