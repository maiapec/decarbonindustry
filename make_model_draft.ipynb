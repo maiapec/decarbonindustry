{
 "cells": [
  {
   "cell_type": "code",
   "execution_count": 2,
   "metadata": {},
   "outputs": [],
   "source": [
    "%load_ext autoreload\n",
    "%autoreload 2"
   ]
  },
  {
   "cell_type": "code",
   "execution_count": 3,
   "metadata": {},
   "outputs": [],
   "source": [
    "import pandas as pd\n",
    "import numpy as np\n",
    "import seaborn as sns\n",
    "import matplotlib.pyplot as plt\n",
    "import cvxpy as cp"
   ]
  },
  {
   "cell_type": "code",
   "execution_count": 4,
   "metadata": {},
   "outputs": [],
   "source": [
    "sns.set_theme(context=\"notebook\")"
   ]
  },
  {
   "cell_type": "markdown",
   "metadata": {},
   "source": [
    "## Import data"
   ]
  },
  {
   "cell_type": "code",
   "execution_count": 5,
   "metadata": {},
   "outputs": [],
   "source": [
    "def get_demand_mask_and_price(df, colName, dt):\n",
    "    col = df[colName].to_numpy() / dt\n",
    "    mask = col > 0\n",
    "    price = col[mask][0]\n",
    "    return mask, price"
   ]
  },
  {
   "cell_type": "code",
   "execution_count": 6,
   "metadata": {},
   "outputs": [],
   "source": [
    "##### loads\n",
    "df = pd.read_csv(\"site1_load.csv\")\n",
    "dt = 1/4 # in hours\n",
    "powerLoad, heatLoad = df['Power Load [kWh]'].to_numpy(), df['Heat Load [kWh]'].to_numpy()\n",
    "\n",
    "##### prices\n",
    "df = pd.read_csv(\"power_price_B20.csv\")\n",
    "energyPricePower = df[\"energyPrice\"].to_numpy()\n",
    "# from per kW to per kWh in 15 minutes\n",
    "powerDemand = [get_demand_mask_and_price(df, colName, dt) for colName in [\"peakDemandSummerPrice\",\n",
    "                                                                          \"partialPeakDemandSummerPrice\",\n",
    "                                                                          \"demandSummerPrice\",\n",
    "                                                                          \"peakDemandWinterPrice\",\n",
    "                                                                          \"demandWinterPrice\"]]\n",
    "df = pd.read_csv(\"gas_price.csv\")\n",
    "energyPriceGas = df[\"energyPrice\"].to_numpy()\n",
    "\n",
    "##### emissions\n",
    "df = pd.read_csv(\"power_grid_emissions.csv\")\n",
    "df.ffill(inplace=True)\n",
    "emissionsPower = df[\"MOER version 2.0\"].to_numpy()\n",
    "df = pd.read_csv(\"gas_emissions.csv\")\n",
    "emissionsGas = df[\"gasEmissions\"].to_numpy()\n",
    "\n",
    "# clear memory\n",
    "del df"
   ]
  },
  {
   "cell_type": "code",
   "execution_count": 7,
   "metadata": {},
   "outputs": [],
   "source": [
    "n = len(powerLoad)"
   ]
  },
  {
   "cell_type": "markdown",
   "metadata": {},
   "source": [
    "## Baseline"
   ]
  },
  {
   "cell_type": "markdown",
   "metadata": {},
   "source": [
    "We only have a natural gas furnace to supply heat, and no storage."
   ]
  },
  {
   "cell_type": "code",
   "execution_count": 11,
   "metadata": {},
   "outputs": [
    {
     "name": "stderr",
     "output_type": "stream",
     "text": [
      "/Users/aramis/miniconda3/envs/spcqe-dev/lib/python3.11/site-packages/cvxpy/reductions/solvers/solving_chain.py:226: UserWarning: You are solving a parameterized problem that is not DPP. Because the problem is not DPP, subsequent solves will not be faster than the first one. For more information, see the documentation on Discplined Parametrized Programming, at\n",
      "\thttps://www.cvxpy.org/tutorial/advanced/index.html#disciplined-parametrized-programming\n",
      "  warnings.warn(DPP_ERROR_MSG)\n"
     ]
    },
    {
     "name": "stdout",
     "output_type": "stream",
     "text": [
      "optimal\n",
      "cost =  5674230.0 $ per year\n",
      "emissions =  16043137.0 kgCO2 per year\n",
      " Gas Furnace capacity=  35748.0 kW\n"
     ]
    }
   ],
   "source": [
    "##### variables and parameters\n",
    "# financial\n",
    "CRF = cp.Parameter(nonneg=True) # capital recovery factor TBD\n",
    "# gas furnace\n",
    "gasInputGF = cp.Variable(n, nonneg=True)\n",
    "capaPriceGF = cp.Parameter(nonneg=True) # $/kW TBD\n",
    "effGF = cp.Parameter(nonneg=True) # %\n",
    "\n",
    "##### useful quantities\n",
    "# gas furnace\n",
    "heatOutputGF = effGF*gasInputGF\n",
    "capaGF = cp.max(heatOutputGF / dt)\n",
    "# consumption\n",
    "gasConsumption = gasInputGF\n",
    "powerConsumption = powerLoad + 0 # no heat pump or batteries here\n",
    "# loads\n",
    "heatSupply = heatOutputGF\n",
    "# costs\n",
    "opexPower = energyPricePower@powerConsumption + np.sum([cp.max(powerConsumption[d[0]])*d[1] for d in powerDemand])\n",
    "opexGas = energyPriceGas@gasConsumption\n",
    "opex = opexPower + opexGas\n",
    "capexGF = capaGF*capaPriceGF\n",
    "capex = capexGF\n",
    "# emissions\n",
    "emissions = emissionsPower@powerConsumption + emissionsGas@gasConsumption\n",
    "\n",
    "##### constraints\n",
    "cons = []\n",
    "# meet load\n",
    "cons += [heatSupply == heatLoad]                                  \n",
    "\n",
    "##### objective function\n",
    "obj = cp.Minimize(opex + CRF*capex)\n",
    "\n",
    "#### solve problem\n",
    "CRF.value = 1/20 # % TBD\n",
    "capaPriceGF.value =  200 # $/kW TBD\n",
    "effGF.value = 0.85 # %\n",
    "prob = cp.Problem(obj, cons)\n",
    "prob.solve(solver=cp.CLARABEL)\n",
    "print(prob.status)\n",
    "print('cost = ', np.round(obj.value), \"$ per year\")\n",
    "print('emissions = ', np.round(emissions.value), \"kgCO2 per year\")\n",
    "print(' Gas Furnace capacity= ', np.round(capaGF.value), \"kW\")\n",
    "# TODO LCOS and LCOE, same for emissions\n",
    "\n",
    "baseline_cost = obj.value\n",
    "baseline_emissions = emissions.value"
   ]
  },
  {
   "cell_type": "markdown",
   "metadata": {},
   "source": [
    "## With a heat pump"
   ]
  },
  {
   "cell_type": "markdown",
   "metadata": {},
   "source": [
    "Natural gas furnace and heat pump"
   ]
  },
  {
   "cell_type": "code",
   "execution_count": 20,
   "metadata": {},
   "outputs": [
    {
     "name": "stdout",
     "output_type": "stream",
     "text": [
      "optimal\n",
      "cost =  5966389.0 $ per year ( 5.15 % increase relative to baseline)\n",
      "emissions =  11230196.0 kgCO2 per year ( 30.0 % reduction relative to baseline)\n",
      "gas furnace capacity=  27207.0 kW\n",
      "heat pump capacity=  8541.0 kW\n"
     ]
    }
   ],
   "source": [
    "##### variables and parameters\n",
    "# financial\n",
    "CRF = cp.Parameter(nonneg=True) # capital recovery factor TBD\n",
    "# gas furnace\n",
    "gasInputGF = cp.Variable(n, nonneg=True)\n",
    "effGF = cp.Parameter(nonneg=True) # %\n",
    "capaPriceGF = cp.Parameter(nonneg=True) # $/kW TBD\n",
    "# heat pump\n",
    "powerInputHP = cp.Variable(n, nonneg=True)\n",
    "copHP = cp.Parameter(nonneg=True) # % TBD\n",
    "capaPriceHP = cp.Parameter(nonneg=True) # $/kW TBD\n",
    "#should add ramp rates maybe ?\n",
    "\n",
    "##### useful quantities\n",
    "# gas furnace\n",
    "heatOutputGF = effGF*gasInputGF\n",
    "capaGF = cp.max(heatOutputGF / dt)\n",
    "# heat pump\n",
    "heatOutputHP = copHP*powerInputHP\n",
    "capaHP = cp.max(heatOutputHP / dt)\n",
    "# consumption\n",
    "gasConsumption = gasInputGF\n",
    "powerConsumption = powerLoad + powerInputHP\n",
    "# loads\n",
    "heatSupply = heatOutputGF + heatOutputHP\n",
    "# costs\n",
    "opexPower = energyPricePower@powerConsumption + np.sum([cp.max(powerConsumption[d[0]])*d[1] for d in powerDemand])\n",
    "opexGas = energyPriceGas@gasConsumption\n",
    "opex = opexPower + opexGas\n",
    "capexGF = capaGF*capaPriceGF\n",
    "capexHP = capaHP*capaPriceHP\n",
    "capex = capexGF + capexHP\n",
    "# emissions\n",
    "emissions = emissionsPower@powerConsumption + emissionsGas@gasConsumption\n",
    "\n",
    "##### constraints\n",
    "cons = []\n",
    "# meet load\n",
    "cons += [heatSupply == heatLoad]                                  \n",
    "# reduce emissions\n",
    "cons += [emissions <= 0.7*baseline_emissions] # 30% reduction\n",
    "\n",
    "##### objective function\n",
    "obj = cp.Minimize(opex + CRF*capex)\n",
    "\n",
    "#### solve problem\n",
    "CRF.value = 1/20 # % TBD\n",
    "capaPriceGF.value =  200 # $/kW TBD\n",
    "effGF.value = 0.85 # %\n",
    "copHP.value = 3 # TBD\n",
    "capaPriceHP.value =  1000 # $/kW TBD\n",
    "prob = cp.Problem(obj, cons)\n",
    "prob.solve(solver=cp.CLARABEL)\n",
    "print(prob.status)\n",
    "print('cost = ', np.round(obj.value), \"$ per year\", \"(\", np.round(100*(obj.value-baseline_cost)/baseline_cost, 2), \"% increase relative to baseline)\")\n",
    "print('emissions = ', np.round(emissions.value), \"kgCO2 per year\", \"(\", -np.round(100*(emissions.value-baseline_emissions)/baseline_emissions, 2), \"% reduction relative to baseline)\")\n",
    "print('gas furnace capacity= ', np.round(capaGF.value), \"kW\")\n",
    "print('heat pump capacity= ', np.round(capaHP.value), \"kW\")\n",
    "# TODO LCOS and LCOE, same for emissions"
   ]
  }
 ],
 "metadata": {
  "kernelspec": {
   "display_name": "EngFutElecSys",
   "language": "python",
   "name": "python3"
  },
  "language_info": {
   "codemirror_mode": {
    "name": "ipython",
    "version": 3
   },
   "file_extension": ".py",
   "mimetype": "text/x-python",
   "name": "python",
   "nbconvert_exporter": "python",
   "pygments_lexer": "ipython3",
   "version": "3.11.9"
  },
  "orig_nbformat": 4
 },
 "nbformat": 4,
 "nbformat_minor": 2
}
