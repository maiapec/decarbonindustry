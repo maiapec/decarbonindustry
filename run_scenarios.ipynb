{
 "cells": [
  {
   "cell_type": "code",
   "execution_count": 1,
   "metadata": {},
   "outputs": [],
   "source": [
    "%load_ext autoreload\n",
    "%autoreload 2"
   ]
  },
  {
   "cell_type": "code",
   "execution_count": 2,
   "metadata": {},
   "outputs": [],
   "source": [
    "import scenarios"
   ]
  },
  {
   "cell_type": "markdown",
   "metadata": {},
   "source": [
    "### Baseline Cost"
   ]
  },
  {
   "cell_type": "code",
   "execution_count": 3,
   "metadata": {},
   "outputs": [
    {
     "data": {
      "text/plain": [
       "'optimal'"
      ]
     },
     "execution_count": 3,
     "metadata": {},
     "output_type": "execute_result"
    }
   ],
   "source": [
    "site1Baseline = scenarios.build_complete_system(\"site1_baseline\", directAccess=False, site=\"site1\")\n",
    "scenarios.run_scenario(site1Baseline, \"MinimizeCost\")"
   ]
  },
  {
   "cell_type": "code",
   "execution_count": 4,
   "metadata": {},
   "outputs": [
    {
     "data": {
      "text/plain": [
       "'optimal'"
      ]
     },
     "execution_count": 4,
     "metadata": {},
     "output_type": "execute_result"
    }
   ],
   "source": [
    "site2Baseline = scenarios.build_complete_system(\"site2_baseline\", directAccess=False, site=\"site2\")\n",
    "scenarios.run_scenario(site2Baseline, \"MinimizeCost\")"
   ]
  },
  {
   "cell_type": "code",
   "execution_count": 5,
   "metadata": {},
   "outputs": [
    {
     "data": {
      "text/plain": [
       "'optimal'"
      ]
     },
     "execution_count": 5,
     "metadata": {},
     "output_type": "execute_result"
    }
   ],
   "source": [
    "site3Baseline = scenarios.build_complete_system(\"site3_baseline\", directAccess=False, site=\"site3\")\n",
    "scenarios.run_scenario(site3Baseline, \"MinimizeCost\")"
   ]
  },
  {
   "cell_type": "code",
   "execution_count": 6,
   "metadata": {},
   "outputs": [
    {
     "data": {
      "text/plain": [
       "'optimal'"
      ]
     },
     "execution_count": 6,
     "metadata": {},
     "output_type": "execute_result"
    }
   ],
   "source": [
    "site4Baseline = scenarios.build_complete_system(\"site4_baseline\", directAccess=False, site=\"site4\")\n",
    "scenarios.run_scenario(site4Baseline, \"MinimizeCost\")"
   ]
  },
  {
   "cell_type": "code",
   "execution_count": 7,
   "metadata": {},
   "outputs": [
    {
     "data": {
      "text/plain": [
       "'optimal'"
      ]
     },
     "execution_count": 7,
     "metadata": {},
     "output_type": "execute_result"
    }
   ],
   "source": [
    "site5Baseline = scenarios.build_complete_system(\"site5_baseline\", directAccess=False, site=\"site5\")\n",
    "scenarios.run_scenario(site5Baseline, \"MinimizeCost\")"
   ]
  },
  {
   "cell_type": "code",
   "execution_count": 9,
   "metadata": {},
   "outputs": [
    {
     "data": {
      "text/plain": [
       "'optimal'"
      ]
     },
     "execution_count": 9,
     "metadata": {},
     "output_type": "execute_result"
    }
   ],
   "source": [
    "aggregated = [\"site1\", \"site2\", \"site3\", \"site4\", \"site5\"]\n",
    "aggregatedBaseline = scenarios.build_complete_system(\"aggregated_baseline\", directAccess=False, site=aggregated)\n",
    "scenarios.run_scenario(aggregatedBaseline, \"MinimizeCost\")"
   ]
  }
 ],
 "metadata": {
  "kernelspec": {
   "display_name": "efes",
   "language": "python",
   "name": "python3"
  },
  "language_info": {
   "codemirror_mode": {
    "name": "ipython",
    "version": 3
   },
   "file_extension": ".py",
   "mimetype": "text/x-python",
   "name": "python",
   "nbconvert_exporter": "python",
   "pygments_lexer": "ipython3",
   "version": "3.11.8"
  }
 },
 "nbformat": 4,
 "nbformat_minor": 2
}
